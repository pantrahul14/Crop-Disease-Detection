{
 "cells": [
  {
   "cell_type": "code",
   "execution_count": 1,
   "id": "35bda1a6",
   "metadata": {
    "scrolled": true
   },
   "outputs": [],
   "source": [
    "# Importing Libraries\n",
    "import numpy as np\n",
    "import cv2\n",
    "import os\n",
    "\n",
    "from PIL import Image\n",
    "\n",
    "import matplotlib.pylab as plt\n",
    "\n",
    "import tensorflow as tf\n",
    "import tensorflow_hub as hub\n",
    "import tensorflow_text\n",
    "\n",
    "from tensorflow import keras\n",
    "from tensorflow.keras import layers\n",
    "from tensorflow.keras.models import Sequential\n",
    "from keras.layers import Dropout"
   ]
  },
  {
   "cell_type": "code",
   "execution_count": 2,
   "id": "fc456576",
   "metadata": {
    "scrolled": true
   },
   "outputs": [],
   "source": [
    "# Defining Image Size\n",
    "IMAGE_SHAPE = (224, 224)"
   ]
  },
  {
   "cell_type": "code",
   "execution_count": 3,
   "id": "8b120be8",
   "metadata": {},
   "outputs": [],
   "source": [
    "# Defining the path of Dataset.\n",
    "data_dir1 = \"C:/Users/91740/Project/PlantVillage1\"\n",
    "data_dir2 = \"C:/Users/91740/Project/PlantVillage2\"\n",
    "data_dir3 = \"C:/Users/91740/Project/PlantVillage3\"\n",
    "import pathlib\n",
    "# Initialising the path of directory\n",
    "data_dir1 = pathlib.Path(data_dir1)\n",
    "data_dir2 = pathlib.Path(data_dir2)\n",
    "data_dir3 = pathlib.Path(data_dir3)"
   ]
  },
  {
   "cell_type": "code",
   "execution_count": 4,
   "id": "6bf9fdb8",
   "metadata": {},
   "outputs": [],
   "source": [
    "# Creating dictionary for clasification.\n",
    "crop_images_dict1 = {\n",
    "    'Bell_Pepper_Bacterial_Spot': list(data_dir1.glob('Bell_Pepper_Bacterial_Spot/*')),\n",
    "    'Bell_Pepper_Healthy': list(data_dir1.glob('Bell_Pepper_Healthy/*')),\n",
    "    'Potato_Early_Blight': list(data_dir1.glob('Potato_Early_Blight/*')),\n",
    "    'Potato_Healthy': list(data_dir1.glob('Potato_Healthy/*')),\n",
    "    'Potato_Late_Blight': list(data_dir1.glob('Potato_Late_Blight/*')),\n",
    "    'Tomato_Bacterial_Spot': list(data_dir1.glob('Tomato_Bacterial_Spot/*')),\n",
    "    'Tomato_Early_Blight': list(data_dir1.glob('Tomato_Early_Blight/*')),\n",
    "    'Tomato_Healthy': list(data_dir1.glob('Tomato_Healthy/*')),\n",
    "    'Tomato_Late_Blight': list(data_dir1.glob('Tomato_Late_Blight/*')),\n",
    "    'Tomato_Septoria_Leaf_Spot': list(data_dir1.glob('Tomato_Septoria_Leaf_Spot/*')),\n",
    "    'Tomato_YellowLeaf_Curl_Virus': list(data_dir1.glob('Tomato_YellowLeaf_Curl_Virus/*')),\n",
    "}"
   ]
  },
  {
   "cell_type": "code",
   "execution_count": 5,
   "id": "5340590f",
   "metadata": {},
   "outputs": [],
   "source": [
    "crop_images_dict2 = {\n",
    "    'Bell_Pepper_Bacterial_Spot': list(data_dir2.glob('Bell_Pepper_Bacterial_Spot/*')),\n",
    "    'Bell_Pepper_Healthy': list(data_dir2.glob('Bell_Pepper_Healthy/*')),\n",
    "    'Potato_Early_Blight': list(data_dir2.glob('Potato_Early_Blight/*')),\n",
    "    'Potato_Healthy': list(data_dir2.glob('Potato_Healthy/*')),\n",
    "    'Potato_Late_Blight': list(data_dir2.glob('Potato_Late_Blight/*')),\n",
    "    'Tomato_Bacterial_Spot': list(data_dir2.glob('Tomato_Bacterial_Spot/*')),\n",
    "    'Tomato_Early_Blight': list(data_dir2.glob('Tomato_Early_Blight/*')),\n",
    "    'Tomato_Healthy': list(data_dir2.glob('Tomato_Healthy/*')),\n",
    "    'Tomato_Late_Blight': list(data_dir2.glob('Tomato_Late_Blight/*')),\n",
    "    'Tomato_Septoria_Leaf_Spot': list(data_dir2.glob('Tomato_Septoria_Leaf_Spot/*')),\n",
    "    'Tomato_YellowLeaf_Curl_Virus': list(data_dir2.glob('Tomato_YellowLeaf_Curl_Virus/*')),\n",
    "}"
   ]
  },
  {
   "cell_type": "code",
   "execution_count": 6,
   "id": "7f3d8e85",
   "metadata": {},
   "outputs": [],
   "source": [
    "crop_images_dict3 = {\n",
    "    'Bell_Pepper_Bacterial_Spot': list(data_dir3.glob('Bell_Pepper_Bacterial_Spot/*')),\n",
    "    'Bell_Pepper_Healthy': list(data_dir3.glob('Bell_Pepper_Healthy/*')),\n",
    "    'Potato_Early_Blight': list(data_dir3.glob('Potato_Early_Blight/*')),\n",
    "    'Potato_Healthy': list(data_dir3.glob('Potato_Healthy/*')),\n",
    "    'Potato_Late_Blight': list(data_dir3.glob('Potato_Late_Blight/*')),\n",
    "    'Tomato_Bacterial_Spot': list(data_dir3.glob('Tomato_Bacterial_Spot/*')),\n",
    "    'Tomato_Early_Blight': list(data_dir3.glob('Tomato_Early_Blight/*')),\n",
    "    'Tomato_Healthy': list(data_dir3.glob('Tomato_Healthy/*')),\n",
    "    'Tomato_Late_Blight': list(data_dir3.glob('Tomato_Late_Blight/*')),\n",
    "    'Tomato_Septoria_Leaf_Spot': list(data_dir3.glob('Tomato_Septoria_Leaf_Spot/*')),\n",
    "    'Tomato_YellowLeaf_Curl_Virus': list(data_dir3.glob('Tomato_YellowLeaf_Curl_Virus/*')),\n",
    "}"
   ]
  },
  {
   "cell_type": "code",
   "execution_count": 7,
   "id": "649b075d",
   "metadata": {},
   "outputs": [],
   "source": [
    "# Creating labels\n",
    "crop_labels_dict = {\n",
    "    'Bell_Pepper_Bacterial_Spot': 0,\n",
    "    'Bell_Pepper_Healthy': 1,\n",
    "    'Potato_Early_Blight': 2,\n",
    "    'Potato_Healthy': 3,\n",
    "    'Potato_Late_Blight': 4,\n",
    "    'Tomato_Bacterial_Spot': 5,\n",
    "    'Tomato_Early_Blight': 6,\n",
    "    'Tomato_Healthy': 7,\n",
    "    'Tomato_Late_Blight': 8,\n",
    "    'Tomato_Septoria_Leaf_Spot': 9,\n",
    "    'Tomato_YellowLeaf_Curl_Virus': 10,\n",
    "}"
   ]
  },
  {
   "cell_type": "code",
   "execution_count": 8,
   "id": "d7f57f32",
   "metadata": {},
   "outputs": [],
   "source": [
    "# Defining imput as X and output as y.\n",
    "X1, y1 = [], []\n",
    "\n",
    "for crop_name, images in crop_images_dict1.items():\n",
    "    for image in images:\n",
    "            try:\n",
    "                img = cv2.imread(str(image))\n",
    "                resized_img = cv2.resize(img,IMAGE_SHAPE)\n",
    "                X1.append(resized_img)\n",
    "                y1.append(crop_labels_dict[crop_name])\n",
    "            except Exception as e:\n",
    "                pass"
   ]
  },
  {
   "cell_type": "code",
   "execution_count": 9,
   "id": "231014a5",
   "metadata": {},
   "outputs": [],
   "source": [
    "# Conveting into numpy arrays.\n",
    "X1 = np.array(X1)\n",
    "y1 = np.array(y1)"
   ]
  },
  {
   "cell_type": "code",
   "execution_count": 10,
   "id": "5f37e219",
   "metadata": {
    "scrolled": true
   },
   "outputs": [],
   "source": [
    "# Splitting dataset into training and test set.\n",
    "from sklearn.model_selection import train_test_split\n",
    "X_train1, X_test1, y_train1, y_test1 = train_test_split(X1, y1, random_state=0,test_size=0.20)"
   ]
  },
  {
   "cell_type": "code",
   "execution_count": 11,
   "id": "846aeb68",
   "metadata": {
    "scrolled": true
   },
   "outputs": [],
   "source": [
    "# Normalizing input in range 0 to 1.\n",
    "X_train1 = X_train1/255.0\n",
    "X_test1 = X_test1/255.0"
   ]
  },
  {
   "cell_type": "code",
   "execution_count": 12,
   "id": "4d758ffa",
   "metadata": {
    "scrolled": false
   },
   "outputs": [
    {
     "name": "stdout",
     "output_type": "stream",
     "text": [
      "WARNING:tensorflow:Please fix your imports. Module tensorflow.python.training.tracking.data_structures has been moved to tensorflow.python.trackable.data_structures. The old module will be deleted in version 2.11.\n"
     ]
    }
   ],
   "source": [
    "# Loading pretrained model\n",
    "#feature_extractor_model = \"https://tfhub.dev/google/tf2-preview/mobilenet_v2/feature_vector/4\"\n",
    "feature_extractor_model = hub.load(\"//DESKTOP-2PDCGP5/Users/91740/Project/mobilenet_v2_feature_vector_4\")\n",
    "pretrained_model_without_top_layer = hub.KerasLayer(\n",
    "    feature_extractor_model, input_shape=(224,224,3), trainable=False\n",
    ")"
   ]
  },
  {
   "cell_type": "code",
   "execution_count": 13,
   "id": "061abc14",
   "metadata": {},
   "outputs": [
    {
     "name": "stdout",
     "output_type": "stream",
     "text": [
      "Model: \"sequential\"\n",
      "_________________________________________________________________\n",
      " Layer (type)                Output Shape              Param #   \n",
      "=================================================================\n",
      " keras_layer (KerasLayer)    (None, 1280)              2257984   \n",
      "                                                                 \n",
      " dense (Dense)               (None, 22)                28182     \n",
      "                                                                 \n",
      " dense_1 (Dense)             (None, 11)                253       \n",
      "                                                                 \n",
      "=================================================================\n",
      "Total params: 2,286,419\n",
      "Trainable params: 28,435\n",
      "Non-trainable params: 2,257,984\n",
      "_________________________________________________________________\n"
     ]
    }
   ],
   "source": [
    "# Adding Dense layers for classification other than pretrained model layers.\n",
    "num_of_crops = 11\n",
    "\n",
    "model = tf.keras.Sequential([\n",
    "    pretrained_model_without_top_layer,\n",
    "    tf.keras.layers.Dense(2*num_of_crops, activation='relu'),\n",
    "    tf.keras.layers.Dense(num_of_crops),\n",
    "])\n",
    "\n",
    "model.summary()"
   ]
  },
  {
   "cell_type": "code",
   "execution_count": 14,
   "id": "1e787fe6",
   "metadata": {
    "scrolled": false
   },
   "outputs": [],
   "source": [
    "# Compiling and fitting the model.\n",
    "model.compile(\n",
    "    optimizer=\"adam\",\n",
    "    loss=tf.keras.losses.SparseCategoricalCrossentropy(from_logits=True),\n",
    "    metrics=['acc']\n",
    ")"
   ]
  },
  {
   "cell_type": "code",
   "execution_count": 15,
   "id": "3c428611",
   "metadata": {
    "scrolled": false
   },
   "outputs": [
    {
     "name": "stdout",
     "output_type": "stream",
     "text": [
      "Epoch 1/10\n",
      "142/142 [==============================] - 125s 855ms/step - loss: 0.9298 - acc: 0.7154 - val_loss: 0.4781 - val_acc: 0.8523\n",
      "Epoch 2/10\n",
      "142/142 [==============================] - 104s 736ms/step - loss: 0.3549 - acc: 0.8921 - val_loss: 0.3257 - val_acc: 0.9063\n",
      "Epoch 3/10\n",
      "142/142 [==============================] - 100s 708ms/step - loss: 0.2406 - acc: 0.9295 - val_loss: 0.2781 - val_acc: 0.9116\n",
      "Epoch 4/10\n",
      "142/142 [==============================] - 108s 758ms/step - loss: 0.1771 - acc: 0.9518 - val_loss: 0.2241 - val_acc: 0.9248\n",
      "Epoch 5/10\n",
      "142/142 [==============================] - 105s 744ms/step - loss: 0.1392 - acc: 0.9655 - val_loss: 0.1994 - val_acc: 0.9363\n",
      "Epoch 6/10\n",
      "142/142 [==============================] - 101s 711ms/step - loss: 0.1122 - acc: 0.9706 - val_loss: 0.2172 - val_acc: 0.9266\n",
      "Epoch 7/10\n",
      "142/142 [==============================] - 97s 686ms/step - loss: 0.0903 - acc: 0.9823 - val_loss: 0.1830 - val_acc: 0.9390\n",
      "Epoch 8/10\n",
      "142/142 [==============================] - 110s 774ms/step - loss: 0.0785 - acc: 0.9847 - val_loss: 0.1836 - val_acc: 0.9452\n",
      "Epoch 9/10\n",
      "142/142 [==============================] - 100s 706ms/step - loss: 0.0617 - acc: 0.9900 - val_loss: 0.1705 - val_acc: 0.9425\n",
      "Epoch 10/10\n",
      "142/142 [==============================] - 99s 695ms/step - loss: 0.0511 - acc: 0.9927 - val_loss: 0.1623 - val_acc: 0.9496\n"
     ]
    }
   ],
   "source": [
    "history = model.fit(X_train1, y_train1, validation_data=(X_test1, y_test1), epochs=10)"
   ]
  },
  {
   "cell_type": "code",
   "execution_count": 16,
   "id": "ec01e787",
   "metadata": {},
   "outputs": [],
   "source": [
    "del X_train1,y_train1,X_test1,y_test1"
   ]
  },
  {
   "cell_type": "code",
   "execution_count": 17,
   "id": "fe18f31a",
   "metadata": {},
   "outputs": [],
   "source": [
    "# Defining imput as X and output as y.\n",
    "X2, y2 = [], []\n",
    "\n",
    "for crop_name, images in crop_images_dict2.items():\n",
    "    for image in images:\n",
    "            img = cv2.imread(str(image))\n",
    "            resized_img = cv2.resize(img,IMAGE_SHAPE)\n",
    "            X2.append(resized_img)\n",
    "            y2.append(crop_labels_dict[crop_name])"
   ]
  },
  {
   "cell_type": "code",
   "execution_count": 18,
   "id": "9aff25d1",
   "metadata": {},
   "outputs": [],
   "source": [
    "X2 = np.array(X2)\n",
    "y2 = np.array(y2)\n",
    "X_train2, X_test2, y_train2, y_test2 = train_test_split(X2, y2, random_state=0,test_size=0.20)\n",
    "X_train2 = X_train2/255.0\n",
    "X_test2 = X_test2/255.0"
   ]
  },
  {
   "cell_type": "code",
   "execution_count": 19,
   "id": "ce06ffd3",
   "metadata": {},
   "outputs": [
    {
     "name": "stdout",
     "output_type": "stream",
     "text": [
      "Epoch 1/10\n",
      "143/143 [==============================] - 118s 823ms/step - loss: 0.2328 - acc: 0.9222 - val_loss: 0.2239 - val_acc: 0.9253\n",
      "Epoch 2/10\n",
      "143/143 [==============================] - 125s 877ms/step - loss: 0.1380 - acc: 0.9523 - val_loss: 0.1819 - val_acc: 0.9367\n",
      "Epoch 3/10\n",
      "143/143 [==============================] - 141s 983ms/step - loss: 0.0976 - acc: 0.9701 - val_loss: 0.1975 - val_acc: 0.9323\n",
      "Epoch 4/10\n",
      "143/143 [==============================] - 119s 835ms/step - loss: 0.0736 - acc: 0.9798 - val_loss: 0.1790 - val_acc: 0.9394\n",
      "Epoch 5/10\n",
      "143/143 [==============================] - 144s 1s/step - loss: 0.0560 - acc: 0.9879 - val_loss: 0.1618 - val_acc: 0.9482\n",
      "Epoch 6/10\n",
      "143/143 [==============================] - 127s 892ms/step - loss: 0.0447 - acc: 0.9921 - val_loss: 0.1772 - val_acc: 0.9446\n",
      "Epoch 7/10\n",
      "143/143 [==============================] - 110s 772ms/step - loss: 0.0362 - acc: 0.9941 - val_loss: 0.1526 - val_acc: 0.9552\n",
      "Epoch 8/10\n",
      "143/143 [==============================] - 126s 884ms/step - loss: 0.0309 - acc: 0.9958 - val_loss: 0.1552 - val_acc: 0.9508\n",
      "Epoch 9/10\n",
      "143/143 [==============================] - 125s 870ms/step - loss: 0.0242 - acc: 0.9985 - val_loss: 0.1604 - val_acc: 0.9473\n",
      "Epoch 10/10\n",
      "143/143 [==============================] - 116s 810ms/step - loss: 0.0228 - acc: 0.9980 - val_loss: 0.1529 - val_acc: 0.9543\n"
     ]
    }
   ],
   "source": [
    "history = model.fit(X_train2, y_train2, validation_data=(X_test2, y_test2), epochs=10)"
   ]
  },
  {
   "cell_type": "code",
   "execution_count": 20,
   "id": "862ac155",
   "metadata": {},
   "outputs": [],
   "source": [
    "del X_train2,y_train2,X_test2,y_test2"
   ]
  },
  {
   "cell_type": "code",
   "execution_count": 21,
   "id": "29f386ca",
   "metadata": {},
   "outputs": [],
   "source": [
    "# Defining imput as X and output as y.\n",
    "X3, y3 = [], []\n",
    "\n",
    "for crop_name, images in crop_images_dict3.items():\n",
    "    for image in images:\n",
    "            img = cv2.imread(str(image))\n",
    "            resized_img = cv2.resize(img,IMAGE_SHAPE)\n",
    "            X3.append(resized_img)\n",
    "            y3.append(crop_labels_dict[crop_name])"
   ]
  },
  {
   "cell_type": "code",
   "execution_count": 22,
   "id": "6039fdd0",
   "metadata": {},
   "outputs": [],
   "source": [
    "X3 = np.array(X3)\n",
    "y3 = np.array(y3)\n",
    "X_train3, X_test3, y_train3, y_test3 = train_test_split(X3, y3, random_state=0,test_size=0.20)\n",
    "X_train3 = X_train3/255.0\n",
    "X_test3 = X_test3/255.0"
   ]
  },
  {
   "cell_type": "code",
   "execution_count": 23,
   "id": "d63b68a5",
   "metadata": {
    "scrolled": true
   },
   "outputs": [
    {
     "name": "stdout",
     "output_type": "stream",
     "text": [
      "Epoch 1/10\n",
      "141/141 [==============================] - 139s 983ms/step - loss: 0.2290 - acc: 0.9274 - val_loss: 0.1787 - val_acc: 0.9412\n",
      "Epoch 2/10\n",
      "141/141 [==============================] - 124s 885ms/step - loss: 0.1173 - acc: 0.9581 - val_loss: 0.2160 - val_acc: 0.9261\n",
      "Epoch 3/10\n",
      "141/141 [==============================] - 137s 973ms/step - loss: 0.0875 - acc: 0.9717 - val_loss: 0.1831 - val_acc: 0.9377\n",
      "Epoch 4/10\n",
      "141/141 [==============================] - 127s 905ms/step - loss: 0.0601 - acc: 0.9846 - val_loss: 0.1841 - val_acc: 0.9412\n",
      "Epoch 5/10\n",
      "141/141 [==============================] - 139s 990ms/step - loss: 0.0390 - acc: 0.9909 - val_loss: 0.1616 - val_acc: 0.9448\n",
      "Epoch 6/10\n",
      "141/141 [==============================] - 115s 816ms/step - loss: 0.0315 - acc: 0.9949 - val_loss: 0.1692 - val_acc: 0.9412\n",
      "Epoch 7/10\n",
      "141/141 [==============================] - 116s 822ms/step - loss: 0.0246 - acc: 0.9960 - val_loss: 0.1746 - val_acc: 0.9439\n",
      "Epoch 8/10\n",
      "141/141 [==============================] - 111s 785ms/step - loss: 0.0189 - acc: 0.9987 - val_loss: 0.1616 - val_acc: 0.9501\n",
      "Epoch 9/10\n",
      "141/141 [==============================] - 113s 803ms/step - loss: 0.0157 - acc: 1.0000 - val_loss: 0.1690 - val_acc: 0.9501\n",
      "Epoch 10/10\n",
      "141/141 [==============================] - 101s 719ms/step - loss: 0.0137 - acc: 0.9998 - val_loss: 0.1615 - val_acc: 0.9501\n"
     ]
    }
   ],
   "source": [
    "history = model.fit(X_train3, y_train3, validation_data=(X_test3, y_test3), epochs=10)"
   ]
  },
  {
   "cell_type": "code",
   "execution_count": 24,
   "id": "8804984f",
   "metadata": {
    "scrolled": true
   },
   "outputs": [],
   "source": [
    "del X_train3, X_test3, y_train3, y_test3"
   ]
  },
  {
   "cell_type": "code",
   "execution_count": 25,
   "id": "09a89d16",
   "metadata": {},
   "outputs": [
    {
     "data": {
      "image/png": "[encoded data removed]",
      "text/plain": [
       "<Figure size 640x480 with 1 Axes>"
      ]
     },
     "metadata": {},
     "output_type": "display_data"
    },
    {
     "data": {
      "image/png": "[encoded data removed]",
      "text/plain": [
       "<Figure size 640x480 with 1 Axes>"
      ]
     },
     "metadata": {},
     "output_type": "display_data"
    }
   ],
   "source": [
    "# summarize history for accuracy\n",
    "plt.plot(history.history['acc'], 'g', label='Training Accuracy')\n",
    "plt.plot(history.history['val_acc'], 'b', label='Validation Accuracy')\n",
    "plt.title('Model Accuracy')\n",
    "plt.ylabel('Accuracy')\n",
    "plt.xlabel('Epoch')\n",
    "plt.legend()\n",
    "plt.show()\n",
    "# summarize history for loss\n",
    "plt.plot(history.history['loss'], 'g', label='Training loss')\n",
    "plt.plot(history.history['val_loss'], 'b', label='Validation loss')\n",
    "plt.title('Model Loss')\n",
    "plt.ylabel('Loss')\n",
    "plt.xlabel('Epoch')\n",
    "plt.legend()\n",
    "plt.show()"
   ]
  },
  {
   "cell_type": "code",
   "execution_count": 26,
   "id": "296420ce",
   "metadata": {
    "scrolled": true
   },
   "outputs": [],
   "source": [
    "# Predicting for some specific input.\n",
    "#predicted = (model.predict(np.array([X_test1[40]])))\n",
    "#predicted = np.argmax(predicted, axis=1)\n",
    "# Predicted result\n",
    "#predicted"
   ]
  },
  {
   "cell_type": "code",
   "execution_count": 27,
   "id": "11f50d49",
   "metadata": {
    "scrolled": false
   },
   "outputs": [],
   "source": [
    "# Original result\n",
    "#print(y_test1[40])"
   ]
  }
 ],
 "metadata": {
  "kernelspec": {
   "display_name": "Python 3 (ipykernel)",
   "language": "python",
   "name": "python3"
  },
  "language_info": {
   "codemirror_mode": {
    "name": "ipython",
    "version": 3
   },
   "file_extension": ".py",
   "mimetype": "text/x-python",
   "name": "python",
   "nbconvert_exporter": "python",
   "pygments_lexer": "ipython3",
   "version": "3.9.13"
  }
 },
 "nbformat": 4,
 "nbformat_minor": 5
}
